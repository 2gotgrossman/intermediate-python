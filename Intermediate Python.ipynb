{
 "cells": [
  {
   "cell_type": "markdown",
   "metadata": {},
   "source": [
    "# Welcome to Pseudocode 306\n",
    "_Also known as Python 3.6_"
   ]
  },
  {
   "cell_type": "markdown",
   "metadata": {},
   "source": [
    "### We're going to try to cover a lot in 40 minutes\n",
    "1. Virtual environments\n",
    "2. Lambda functions\n",
    "3. Comprehensions: `list`, `dict`, `set`\n",
    "4. Iterators and Generators\n",
    "5. Python's Functional Charm\n",
    "6. Tuple (Un)Packing\n",
    "7. `id` and `is` vs. `==`\n",
    "8. Mutation\n",
    "9. `local` vs. `nonlocal` vs. `global`\n"
   ]
  },
  {
   "cell_type": "markdown",
   "metadata": {
    "collapsed": true
   },
   "source": [
    "## 1. Virtual Environments\n",
    "\n",
    "Imagine that you have an application which is fully developed and you do not want to make any change to the libraries it is using but at the same time you start developing another application which requires the updated versions of those libraries.\n",
    "\n",
    "`virtualenv` creates isolated environments for your python application and allows you to install Python libraries in that isolated environment instead of installing them globally."
   ]
  },
  {
   "cell_type": "markdown",
   "metadata": {},
   "source": [
    "`pip install virtualenv`\n",
    "\n",
    "### To create a new environment\n",
    "` virtualenv myproject\n",
    "source bin/activate `\n",
    "\n",
    "### To deactivate\n",
    "`deactivate`\n",
    "\n",
    "### Anaconda virtual environments\n",
    "https://conda.io/docs/user-guide/tasks/manage-environments.html\n",
    "\n",
    "### More information on virtual environments\n",
    "http://python-docs.readthedocs.io/en/latest/dev/virtualenvs.html"
   ]
  },
  {
   "cell_type": "markdown",
   "metadata": {},
   "source": [
    "## 2. Lambda Functions\n",
    "The anonymous one liner"
   ]
  },
  {
   "cell_type": "code",
   "execution_count": 17,
   "metadata": {},
   "outputs": [
    {
     "data": {
      "text/plain": [
       "5.0"
      ]
     },
     "execution_count": 17,
     "metadata": {},
     "output_type": "execute_result"
    }
   ],
   "source": [
    "from math import sqrt\n",
    "magnitude = lambda x, y: sqrt(x**2 + y**2)\n",
    "magnitude(3, 4)"
   ]
  },
  {
   "cell_type": "markdown",
   "metadata": {},
   "source": [
    "### How to sort a list of points on an x-y plane by the second entry in the tuple"
   ]
  },
  {
   "cell_type": "code",
   "execution_count": 18,
   "metadata": {},
   "outputs": [
    {
     "name": "stdout",
     "output_type": "stream",
     "text": [
      "Unsorted pairs: [(86, 32), (44, 77), (77, 81), (32, 13), (27, 20), (21, 82), (60, 41), (89, 47), (42, 58), (15, 10)]\n",
      "Sorted pairs: [(15, 10), (32, 13), (27, 20), (86, 32), (60, 41), (89, 47), (42, 58), (44, 77), (77, 81), (21, 82)]\n"
     ]
    }
   ],
   "source": [
    "import random\n",
    "pairs = list(zip(random.sample(range(1, 100), 10), random.sample(range(1, 100), 10)))\n",
    "print(\"Unsorted pairs:\", pairs)\n",
    "\n",
    "# Sort by the second entry\n",
    "sorted_pairs = sorted(pairs, key=lambda x: x[1])\n",
    "print(\"Sorted pairs:\", sorted_pairs)"
   ]
  },
  {
   "cell_type": "markdown",
   "metadata": {},
   "source": [
    "## 3. Comprehensions\n",
    "<img src=\"https://camo.githubusercontent.com/cc322ab992728d1beae31f4567b3505eca5c7ce4/68747470733a2f2f63646e2e6d656d652e616d2f696e7374616e6365732f343030782f34313837373535392f692d6b6e6f772d6c6973742d636f6d70726568656e73696f6e732e6a7067\", align='left'>\n"
   ]
  },
  {
   "cell_type": "markdown",
   "metadata": {},
   "source": [
    "### Let's get the magnitude of our points"
   ]
  },
  {
   "cell_type": "code",
   "execution_count": 22,
   "metadata": {},
   "outputs": [
    {
     "name": "stdout",
     "output_type": "stream",
     "text": [
      "List comprehensions >> For loops? True\n"
     ]
    }
   ],
   "source": [
    "# The classic way\n",
    "magnitudes1 = []\n",
    "for x, y in sorted_pairs:\n",
    "    mag = magnitude(x, y)\n",
    "    magnitudes1.append(mag)\n",
    "\n",
    "# The list comprehension way\n",
    "magnitudes2 = [magnitude(x, y) for x, y in sorted_pairs]\n",
    "\n",
    "print(\"List comprehensions >> For loops?\", magnitudes1 == magnitudes2)"
   ]
  },
  {
   "cell_type": "markdown",
   "metadata": {},
   "source": [
    "### Dictionary Comprehensions and Set Comprehensions"
   ]
  },
  {
   "cell_type": "code",
   "execution_count": 31,
   "metadata": {},
   "outputs": [
    {
     "name": "stdout",
     "output_type": "stream",
     "text": [
      "Dictionary of magnitudes: {(0, 0): 0.0, (0, 1): 1.0, (0, 2): 2.0, (1, 0): 1.0, (1, 1): 1.4142135623730951, (1, 2): 2.23606797749979, (2, 0): 2.0, (2, 1): 2.23606797749979, (2, 2): 2.8284271247461903}\n",
      "\n",
      "Set of magnitudes: {0.0, 1.0, 2.0, 2.23606797749979, 1.4142135623730951, 2.8284271247461903}\n"
     ]
    }
   ],
   "source": [
    "integer_magnitudes = {(x,y) : magnitude(x, y) for x in range(3) for y in range(3)}\n",
    "set_of_magnitudes = {value for key, value in integer_magnitudes.items()}\n",
    "\n",
    "print(\"Dictionary of magnitudes:\", integer_magnitudes)\n",
    "print()\n",
    "print(\"Set of magnitudes:\", set_of_magnitudes)"
   ]
  },
  {
   "cell_type": "markdown",
   "metadata": {},
   "source": [
    "## 4. Iterators and Generators\n",
    " According to Wikipedia, an iterator is an object that enables a programmer to traverse a container, particularly lists. However, an iterator performs traversal and gives access to data elements in a container, but does not perform iteration.\n",
    "\n",
    "Examples: `list`s, keys in a dictionary, `range(10)`\n",
    "\n",
    "### You can make your own iterator object if you implement a `__next__` method"
   ]
  },
  {
   "cell_type": "markdown",
   "metadata": {},
   "source": [
    "### Generators\n",
    "Generators are iterators, but you can only iterate over them once. It’s because they do not store all the values in memory, they generate the values on the fly. A generator function `yield`s a value every iteration"
   ]
  },
  {
   "cell_type": "code",
   "execution_count": 53,
   "metadata": {},
   "outputs": [
    {
     "name": "stdout",
     "output_type": "stream",
     "text": [
      "0, 1, 2, \n",
      "\n",
      "generator type: <class 'generator'>\n",
      "First value of generator: 0\n",
      "First value of generator: 1\n",
      "First value of generator: 2\n"
     ]
    },
    {
     "ename": "StopIteration",
     "evalue": "",
     "output_type": "error",
     "traceback": [
      "\u001b[0;31m---------------------------------------------------------------------------\u001b[0m",
      "\u001b[0;31mStopIteration\u001b[0m                             Traceback (most recent call last)",
      "\u001b[0;32m<ipython-input-53-dc29fda3e3c1>\u001b[0m in \u001b[0;36m<module>\u001b[0;34m()\u001b[0m\n\u001b[1;32m     13\u001b[0m \u001b[0mprint\u001b[0m\u001b[0;34m(\u001b[0m\u001b[0;34m\"First value of generator:\"\u001b[0m\u001b[0;34m,\u001b[0m \u001b[0mnext\u001b[0m\u001b[0;34m(\u001b[0m\u001b[0mx\u001b[0m\u001b[0;34m)\u001b[0m\u001b[0;34m)\u001b[0m\u001b[0;34m\u001b[0m\u001b[0m\n\u001b[1;32m     14\u001b[0m \u001b[0mprint\u001b[0m\u001b[0;34m(\u001b[0m\u001b[0;34m\"First value of generator:\"\u001b[0m\u001b[0;34m,\u001b[0m \u001b[0mnext\u001b[0m\u001b[0;34m(\u001b[0m\u001b[0mx\u001b[0m\u001b[0;34m)\u001b[0m\u001b[0;34m)\u001b[0m\u001b[0;34m\u001b[0m\u001b[0m\n\u001b[0;32m---> 15\u001b[0;31m \u001b[0mprint\u001b[0m\u001b[0;34m(\u001b[0m\u001b[0;34m\"First value of generator:\"\u001b[0m\u001b[0;34m,\u001b[0m \u001b[0mnext\u001b[0m\u001b[0;34m(\u001b[0m\u001b[0mx\u001b[0m\u001b[0;34m)\u001b[0m\u001b[0;34m)\u001b[0m\u001b[0;34m\u001b[0m\u001b[0m\n\u001b[0m",
      "\u001b[0;31mStopIteration\u001b[0m: "
     ]
    }
   ],
   "source": [
    "def generator_function():\n",
    "    i = 0\n",
    "    while i < 3:\n",
    "        yield i\n",
    "        i += 1\n",
    "\n",
    "for item in generator_function():\n",
    "    print(item,end=', ')\n",
    "print(\"\\n\")\n",
    "x = generator_function()\n",
    "print(\"generator type:\", type(generator_function()))\n",
    "print(\"First value of generator:\", next(x))\n",
    "print(\"First value of generator:\", next(x))\n",
    "print(\"First value of generator:\", next(x))\n",
    "print(\"First value of generator:\", next(x))"
   ]
  },
  {
   "cell_type": "markdown",
   "metadata": {},
   "source": [
    "## 5. Functional Python\n",
    "What is Functional Programming?\n",
    "1. Evaluating functions: Deterministic depending on inputs and outputs\n",
    "2. No mutable data: No pointers!!!\n",
    "\n",
    "### Some things that often come up in functional languages\n",
    "1. First class functions\n",
    "2. Lazy evaluation\n",
    "\n",
    "### `map` and `filter`\n",
    "*`map(function_to_apply, list_of_inputs)`*\n",
    "\n",
    "*`filter(function_to_apply, list_of_inputs)`*\n"
   ]
  },
  {
   "cell_type": "code",
   "execution_count": 67,
   "metadata": {},
   "outputs": [
    {
     "name": "stdout",
     "output_type": "stream",
     "text": [
      "Map type: <class 'map'> \n",
      "\n",
      "18.027756377319946 18.027756377319946 Equal: True\n",
      "34.539832078341085 34.539832078341085 Equal: True\n",
      "33.60059523282288 33.60059523282288 Equal: True\n",
      "91.76055797563569 91.76055797563569 Equal: True\n",
      "72.67048919609665 72.67048919609665 Equal: True\n",
      "100.64790112068906 100.64790112068906 Equal: True\n",
      "71.61005515987263 71.61005515987263 Equal: True\n",
      "88.68483523128404 88.68483523128404 Equal: True\n",
      "111.75866856758807 111.75866856758807 Equal: True\n",
      "84.64632301523794 84.64632301523794 Equal: True\n"
     ]
    }
   ],
   "source": [
    "magnitudes2 = [magnitude(x, y) for x, y in sorted_pairs]\n",
    "\n",
    "magnitudes3 = map(lambda x: magnitude(x[0], x[1]), sorted_pairs)\n",
    "print(\"Map type:\", type(magnitudes3), '\\n')\n",
    "\n",
    "for i, j in zip(magnitudes2, magnitudes3):\n",
    "    print(i, j, \"Equal:\", i == j)"
   ]
  },
  {
   "cell_type": "markdown",
   "metadata": {},
   "source": [
    "## 6. Tuple Packing and Unpacking"
   ]
  },
  {
   "cell_type": "code",
   "execution_count": 82,
   "metadata": {},
   "outputs": [
    {
     "name": "stdout",
     "output_type": "stream",
     "text": [
      "1 1 1 2 3 5 8 13 21 34 "
     ]
    }
   ],
   "source": [
    "def fib(n):\n",
    "    a = 1\n",
    "    b = 1\n",
    "    for i in range(2, n):\n",
    "        a, b = b, a + b\n",
    "    return b\n",
    "\n",
    "for i in range(10):\n",
    "    print(fib(i), end=\" \")"
   ]
  },
  {
   "cell_type": "markdown",
   "metadata": {},
   "source": [
    "### Multiple return values???"
   ]
  },
  {
   "cell_type": "code",
   "execution_count": 86,
   "metadata": {},
   "outputs": [
    {
     "name": "stdout",
     "output_type": "stream",
     "text": [
      "(1, 987)\n",
      "Min: 1\n",
      "Max: 987\n"
     ]
    }
   ],
   "source": [
    "def min_max(items):\n",
    "    minimum = min(items)\n",
    "    maximum = max(items)\n",
    "    return minimum, maximum\n",
    "\n",
    "rand = random.sample(range(1, 1000), 100)\n",
    "\n",
    "print(min_max(rand))\n",
    "x, y = min_max(rand)\n",
    "print(\"Min:\", x)\n",
    "print(\"Max:\", y)"
   ]
  },
  {
   "cell_type": "markdown",
   "metadata": {},
   "source": [
    "## 7. `is` vs. `==`\n",
    "\n",
    "#### `is` compares memory locations of data. \n",
    "\n",
    "#### `==` checks for equality, however implemented.\n",
    "\n",
    "You can implement your own method of checking for equality of an object: `__eq__(self, other)`"
   ]
  },
  {
   "cell_type": "markdown",
   "metadata": {},
   "source": [
    "### Some weird cases"
   ]
  },
  {
   "cell_type": "code",
   "execution_count": 94,
   "metadata": {},
   "outputs": [
    {
     "name": "stdout",
     "output_type": "stream",
     "text": [
      "x is y: True\n",
      "x == y: True\n",
      "a is b: False\n",
      "a == b: True\n"
     ]
    }
   ],
   "source": [
    "x = 5\n",
    "y = 5\n",
    "print(\"x is y:\", x is y)\n",
    "print(\"x == y:\", x == y)\n",
    "\n",
    "a = 300\n",
    "b = 300\n",
    "print('a is b:', a is b)\n",
    "print('a == b:', a == b)"
   ]
  },
  {
   "cell_type": "markdown",
   "metadata": {},
   "source": [
    "### For the curious\n",
    "\n",
    "http://nbviewer.jupyter.org/github/rasbt/python_reference/blob/master/tutorials/not_so_obvious_python_stuff.ipynb?create=1#Python-reuses-objects-for-small-integers---use-\"==\"-for-equality,-\"is\"-for-identity"
   ]
  },
  {
   "cell_type": "markdown",
   "metadata": {},
   "source": [
    "## 8. Mutation\n",
    "\n",
    "#### Bug bug buggy"
   ]
  },
  {
   "cell_type": "code",
   "execution_count": 96,
   "metadata": {},
   "outputs": [
    {
     "name": "stdout",
     "output_type": "stream",
     "text": [
      "[1]\n",
      "[33, 2]\n",
      "[1, 3]\n"
     ]
    }
   ],
   "source": [
    "def add_to(num, target=[]):\n",
    "    target.append(num)\n",
    "    return target\n",
    "\n",
    "print(add_to(1))\n",
    "print(add_to(2, target = [33]))\n",
    "print(add_to(3))"
   ]
  },
  {
   "cell_type": "markdown",
   "metadata": {},
   "source": [
    "### How to avoid such issues"
   ]
  },
  {
   "cell_type": "code",
   "execution_count": 98,
   "metadata": {},
   "outputs": [
    {
     "name": "stdout",
     "output_type": "stream",
     "text": [
      "[1]\n",
      "[33, 2]\n",
      "[3]\n"
     ]
    }
   ],
   "source": [
    "def add_to(element, target=None):\n",
    "    if target is None:\n",
    "        target = []\n",
    "    target.append(element)\n",
    "    return target\n",
    "\n",
    "print(add_to(1))\n",
    "print(add_to(2, target = [33]))\n",
    "print(add_to(3))"
   ]
  },
  {
   "cell_type": "markdown",
   "metadata": {},
   "source": [
    "## 9. local vs. nonlocal vs. global"
   ]
  },
  {
   "cell_type": "code",
   "execution_count": 105,
   "metadata": {},
   "outputs": [
    {
     "name": "stdout",
     "output_type": "stream",
     "text": [
      "outer before: 1\n",
      "inner: 2\n",
      "outer after: 2\n",
      "global: 0\n"
     ]
    }
   ],
   "source": [
    "x = 0\n",
    "def outer():\n",
    "    x = 1\n",
    "    print('outer before:', x)\n",
    "    def inner():\n",
    "        nonlocal x\n",
    "        x = 2\n",
    "        print(\"inner:\", x)\n",
    "    inner()\n",
    "    print(\"outer after:\", x)\n",
    "    \n",
    "outer()\n",
    "print('global:', x)"
   ]
  },
  {
   "cell_type": "markdown",
   "metadata": {},
   "source": [
    "### Python got it slightly wrong..."
   ]
  },
  {
   "cell_type": "code",
   "execution_count": 100,
   "metadata": {},
   "outputs": [
    {
     "ename": "UnboundLocalError",
     "evalue": "local variable 'var' referenced before assignment",
     "output_type": "error",
     "traceback": [
      "\u001b[0;31m---------------------------------------------------------------------------\u001b[0m",
      "\u001b[0;31mUnboundLocalError\u001b[0m                         Traceback (most recent call last)",
      "\u001b[0;32m<ipython-input-100-8d30d2644397>\u001b[0m in \u001b[0;36m<module>\u001b[0;34m()\u001b[0m\n\u001b[1;32m      4\u001b[0m \u001b[0;34m\u001b[0m\u001b[0m\n\u001b[1;32m      5\u001b[0m \u001b[0mvar\u001b[0m \u001b[0;34m=\u001b[0m \u001b[0;34m'global'\u001b[0m\u001b[0;34m\u001b[0m\u001b[0m\n\u001b[0;32m----> 6\u001b[0;31m \u001b[0mmy_func\u001b[0m\u001b[0;34m(\u001b[0m\u001b[0;34m)\u001b[0m\u001b[0;34m\u001b[0m\u001b[0m\n\u001b[0m",
      "\u001b[0;32m<ipython-input-100-8d30d2644397>\u001b[0m in \u001b[0;36mmy_func\u001b[0;34m()\u001b[0m\n\u001b[1;32m      1\u001b[0m \u001b[0;32mdef\u001b[0m \u001b[0mmy_func\u001b[0m\u001b[0;34m(\u001b[0m\u001b[0;34m)\u001b[0m\u001b[0;34m:\u001b[0m\u001b[0;34m\u001b[0m\u001b[0m\n\u001b[0;32m----> 2\u001b[0;31m     \u001b[0mprint\u001b[0m\u001b[0;34m(\u001b[0m\u001b[0mvar\u001b[0m\u001b[0;34m)\u001b[0m \u001b[0;31m# want to access global variable\u001b[0m\u001b[0;34m\u001b[0m\u001b[0m\n\u001b[0m\u001b[1;32m      3\u001b[0m     \u001b[0mvar\u001b[0m \u001b[0;34m=\u001b[0m \u001b[0;34m'locally changed'\u001b[0m \u001b[0;31m# but Python thinks we forgot to define the local variable!\u001b[0m\u001b[0;34m\u001b[0m\u001b[0m\n\u001b[1;32m      4\u001b[0m \u001b[0;34m\u001b[0m\u001b[0m\n\u001b[1;32m      5\u001b[0m \u001b[0mvar\u001b[0m \u001b[0;34m=\u001b[0m \u001b[0;34m'global'\u001b[0m\u001b[0;34m\u001b[0m\u001b[0m\n",
      "\u001b[0;31mUnboundLocalError\u001b[0m: local variable 'var' referenced before assignment"
     ]
    }
   ],
   "source": [
    "def my_func():\n",
    "    print(var) # want to access global variable\n",
    "    var = 'locally changed' # but Python thinks we forgot to define the local variable!\n",
    "    \n",
    "var = 'global'\n",
    "my_func()"
   ]
  },
  {
   "cell_type": "code",
   "execution_count": null,
   "metadata": {
    "collapsed": true
   },
   "outputs": [],
   "source": []
  }
 ],
 "metadata": {
  "kernelspec": {
   "display_name": "Python [conda env:intermediate]",
   "language": "python",
   "name": "conda-env-intermediate-py"
  },
  "language_info": {
   "codemirror_mode": {
    "name": "ipython",
    "version": 3
   },
   "file_extension": ".py",
   "mimetype": "text/x-python",
   "name": "python",
   "nbconvert_exporter": "python",
   "pygments_lexer": "ipython3",
   "version": "3.6.2"
  }
 },
 "nbformat": 4,
 "nbformat_minor": 2
}
